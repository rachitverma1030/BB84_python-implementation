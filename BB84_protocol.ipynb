{
 "cells": [
  {
   "cell_type": "markdown",
   "id": "ce93c4ce",
   "metadata": {},
   "source": [
    "BB84\n",
    "Without EVE Interference\n"
   ]
  },
  {
   "cell_type": "code",
   "execution_count": 1,
   "id": "fdbf7b61",
   "metadata": {},
   "outputs": [],
   "source": [
    "import random"
   ]
  },
  {
   "cell_type": "code",
   "execution_count": 2,
   "id": "0555b54b",
   "metadata": {},
   "outputs": [],
   "source": [
    "def generate_random_bits(length):\n",
    "    return [random.choice([0, 1]) for _ in range(length)]"
   ]
  },
  {
   "cell_type": "code",
   "execution_count": 3,
   "id": "dd595185",
   "metadata": {},
   "outputs": [],
   "source": [
    "def apply_hadamard_gate(bit):\n",
    "    return (bit + 1) % 2"
   ]
  },
  {
   "cell_type": "code",
   "execution_count": 4,
   "id": "c6cd09a4",
   "metadata": {},
   "outputs": [],
   "source": [
    "def generate_key(bit_positions, bits):\n",
    "    return [bits[i] for i in bit_positions]"
   ]
  },
  {
   "cell_type": "code",
   "execution_count": 5,
   "id": "91bd85bb",
   "metadata": {},
   "outputs": [],
   "source": [
    "def bb84_protocol(bits_length):\n",
    "    alice_bits = generate_random_bits(bits_length)\n",
    "\n",
    "    alice_bases = generate_random_bits(bits_length)\n",
    "    bob_bases = generate_random_bits(bits_length)\n",
    "\n",
    "    encoded_bits = [apply_hadamard_gate(alice_bits[i]) if alice_bases[i] == 0 else alice_bits[i] for i in range(bits_length)]\n",
    "\n",
    "    measured_bits = [apply_hadamard_gate(encoded_bits[i]) if bob_bases[i] == 0 else encoded_bits[i] for i in range(bits_length)]\n",
    "\n",
    "    matching_bases = [i for i in range(bits_length) if alice_bases[i] == bob_bases[i]]\n",
    "    alice_key = generate_key(matching_bases, alice_bits)\n",
    "    bob_key = generate_key(matching_bases, measured_bits)\n",
    "\n",
    "    return alice_key, bob_key\n"
   ]
  },
  {
   "cell_type": "code",
   "execution_count": 6,
   "id": "184d3bcb",
   "metadata": {},
   "outputs": [
    {
     "name": "stdout",
     "output_type": "stream",
     "text": [
      "Alice's Key: [1, 1, 0, 1]\n",
      "Bob's Key:   [1, 1, 0, 1]\n",
      "Keys match! Secure communication established.\n"
     ]
    }
   ],
   "source": [
    "if __name__ == \"__main__\":\n",
    "    key_length = 10\n",
    "    alice_key, bob_key = bb84_protocol(key_length)\n",
    "    print(\"Alice's Key:\", alice_key)\n",
    "    print(\"Bob's Key:  \", bob_key)\n",
    "    if alice_key == bob_key:\n",
    "        print(\"Keys match! Secure communication established.\")\n",
    "    else:\n",
    "        print(\"Keys do not match. Communication compromised.\")\n"
   ]
  },
  {
   "cell_type": "code",
   "execution_count": null,
   "id": "efe9a4fb",
   "metadata": {},
   "outputs": [],
   "source": []
  },
  {
   "cell_type": "code",
   "execution_count": null,
   "id": "96614cf2",
   "metadata": {},
   "outputs": [],
   "source": []
  }
 ],
 "metadata": {
  "kernelspec": {
   "display_name": "Python 3 (ipykernel)",
   "language": "python",
   "name": "python3"
  },
  "language_info": {
   "codemirror_mode": {
    "name": "ipython",
    "version": 3
   },
   "file_extension": ".py",
   "mimetype": "text/x-python",
   "name": "python",
   "nbconvert_exporter": "python",
   "pygments_lexer": "ipython3",
   "version": "3.11.5"
  }
 },
 "nbformat": 4,
 "nbformat_minor": 5
}
